{
 "cells": [
  {
   "cell_type": "markdown",
   "id": "b20750f7",
   "metadata": {},
   "source": [
    "## 画图：plot\n",
    "\n",
    "linspace 用来生成一组等间隔的数据："
   ]
  },
  {
   "cell_type": "code",
   "execution_count": null,
   "id": "5fd4f8ea",
   "metadata": {},
   "outputs": [],
   "source": [
    "a = np.linspace(0, 2 * pi, 10)\n",
    "a\n",
    "# [ 0.          0.6981317   1.3962634   2.0943951   2.7925268   3.4906585\n",
    "#   4.1887902   4.88692191  5.58505361  6.28318531]\n"
   ]
  },
  {
   "cell_type": "code",
   "execution_count": null,
   "id": "66fea7ab",
   "metadata": {},
   "outputs": [],
   "source": [
    "# 三角函数\n",
    "b = np.sin(a)\n",
    "b"
   ]
  },
  {
   "cell_type": "code",
   "execution_count": null,
   "id": "ed5d56c9",
   "metadata": {},
   "outputs": [],
   "source": [
    "# 画图，引入matplotlib库的pyplot方法\n",
    "from matplotlib import pyplot as plt\n",
    "\n",
    "plt.plot(a, b)\n",
    "plt.show() # 正弦图"
   ]
  },
  {
   "cell_type": "markdown",
   "id": "b6280185",
   "metadata": {},
   "source": [
    "从数组中选择元素：\n",
    "\n",
    "假设我们想选取数组b中所有非负的部分，首先可以利用 b 产生一组布尔值："
   ]
  },
  {
   "cell_type": "code",
   "execution_count": null,
   "id": "cfa5daac",
   "metadata": {},
   "outputs": [],
   "source": [
    "mask = b >= 0\n",
    "print(mask)"
   ]
  },
  {
   "cell_type": "markdown",
   "id": "e2e6bff0",
   "metadata": {},
   "source": [
    "更密集的数据，更平滑的正弦曲线："
   ]
  },
  {
   "cell_type": "code",
   "execution_count": null,
   "id": "46de4938",
   "metadata": {},
   "outputs": [],
   "source": [
    "x = np.linspace(0, 2 * pi, 50)\n",
    "x"
   ]
  },
  {
   "cell_type": "code",
   "execution_count": null,
   "id": "a13eaa0f",
   "metadata": {},
   "outputs": [],
   "source": [
    "plt.plot(sin(x))\n",
    "plt.show()"
   ]
  },
  {
   "cell_type": "code",
   "execution_count": null,
   "id": "14f3a34a",
   "metadata": {},
   "outputs": [],
   "source": [
    "# 给定 x 和 y 值：\n",
    "plt.plot(x, sin(x))\n",
    "plt.show()"
   ]
  },
  {
   "cell_type": "code",
   "execution_count": null,
   "id": "11212040",
   "metadata": {},
   "outputs": [],
   "source": [
    "# 画出多条数据线：\n",
    "plt.plot(x, sin(x), x, sin(2 * x))\n",
    "plt.show()"
   ]
  },
  {
   "cell_type": "code",
   "execution_count": null,
   "id": "63595b07",
   "metadata": {},
   "outputs": [],
   "source": [
    "# 使用字符串，给定线条参数：\n",
    "plt.plot(x, sin(x), 'r-^')\n",
    "plt.show()"
   ]
  },
  {
   "cell_type": "code",
   "execution_count": null,
   "id": "dff4872e",
   "metadata": {},
   "outputs": [],
   "source": [
    "# 多线条：\n",
    "plt.plot(x, sin(x), 'b-o', x, sin(2 * x), 'r-^')\n",
    "plt.show()"
   ]
  },
  {
   "cell_type": "markdown",
   "id": "830aac7c",
   "metadata": {},
   "source": [
    "### 散点图"
   ]
  },
  {
   "cell_type": "code",
   "execution_count": null,
   "id": "ab66d4d5",
   "metadata": {},
   "outputs": [],
   "source": [
    "plt.plot(x, sin(x), 'bo')\n",
    "plt.show()  # 二维散点图"
   ]
  },
  {
   "cell_type": "markdown",
   "id": "6af34712",
   "metadata": {},
   "source": [
    "用scatter画图，scatter 散点图\n",
    "\n",
    "- scatter(x, y)\n",
    "- scatter(x, y, size)\n",
    "- scatter(x, y, size, color)"
   ]
  },
  {
   "cell_type": "code",
   "execution_count": null,
   "id": "be6a15bc",
   "metadata": {},
   "outputs": [],
   "source": [
    "plt.scatter(x, sin(x))\n",
    "plt.show()  # 正弦函数"
   ]
  },
  {
   "cell_type": "markdown",
   "id": "156ecdd3",
   "metadata": {},
   "source": [
    "事实上，scatter函数与Matlab的用法相同，还可以指定它的大小，颜色等参数。\n",
    "\n",
    "### 标签：label\n",
    "\n",
    "可以在 plot 中加入 label ，使用 legend 加上图例："
   ]
  },
  {
   "cell_type": "code",
   "execution_count": null,
   "id": "2ef45ee5",
   "metadata": {},
   "outputs": [],
   "source": [
    "t = np.linspace(0, 2 * pi, 50)\n",
    "x = np.sin(t)\n",
    "plt.plot(t, x, 'bo', t, sin(2 * t), 'r-^', label='sin', color='red', )\n",
    "plt.legend()\n",
    "plt.xlabel('radians')\n",
    "plt.ylabel('amplitude', fontsize='large')\n",
    "plt.title('Sin(x)')\n",
    "plt.grid()\n",
    "plt.show()"
   ]
  },
  {
   "cell_type": "code",
   "execution_count": null,
   "id": "5bc044c5",
   "metadata": {},
   "outputs": [],
   "source": [
    "# 直方图\n",
    "data = np.array([1234, 321, 400, 120, 11, 30, 2000])\n",
    "plt.hist(data, 7)\n",
    "plt.show()"
   ]
  },
  {
   "cell_type": "markdown",
   "id": "4aa1215e",
   "metadata": {},
   "source": [
    "本节完。"
   ]
  }
 ],
 "metadata": {
  "kernelspec": {
   "display_name": "Python 3",
   "language": "python",
   "name": "python3"
  },
  "language_info": {
   "codemirror_mode": {
    "name": "ipython",
    "version": 3
   },
   "file_extension": ".py",
   "mimetype": "text/x-python",
   "name": "python",
   "nbconvert_exporter": "python",
   "pygments_lexer": "ipython3",
   "version": "3.8.8"
  }
 },
 "nbformat": 4,
 "nbformat_minor": 5
}
