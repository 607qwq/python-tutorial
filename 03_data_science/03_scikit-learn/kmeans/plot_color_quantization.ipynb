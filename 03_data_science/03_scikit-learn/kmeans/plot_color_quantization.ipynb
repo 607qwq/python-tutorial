{
 "cells": [
  {
   "cell_type": "code",
   "execution_count": 1,
   "metadata": {},
   "outputs": [],
   "source": [
    "%matplotlib inline"
   ]
  },
  {
   "cell_type": "markdown",
   "metadata": {},
   "source": [
    "\n",
    "# Color Quantization using K-Means\n",
    "\n",
    "\n",
    "Performs a pixel-wise Vector Quantization (VQ) of an image of the summer palace\n",
    "(China), reducing the number of colors required to show the image from 96,615\n",
    "unique colors to 64, while preserving the overall appearance quality.\n",
    "\n",
    "In this example, pixels are represented in a 3D-space and K-means is used to\n",
    "find 64 color clusters. In the image processing literature, the codebook\n",
    "obtained from K-means (the cluster centers) is called the color palette. Using\n",
    "a single byte, up to 256 colors can be addressed, whereas an RGB encoding\n",
    "requires 3 bytes per pixel. The GIF file format, for example, uses such a\n",
    "palette.\n",
    "\n",
    "For comparison, a quantized image using a random codebook (colors picked up\n",
    "randomly) is also shown.\n",
    "\n"
   ]
  },
  {
   "cell_type": "code",
   "execution_count": null,
   "metadata": {},
   "outputs": [],
   "source": []
  }
 ],
 "metadata": {
  "kernelspec": {
   "display_name": "Python 3",
   "language": "python",
   "name": "python3"
  },
  "language_info": {
   "codemirror_mode": {
    "name": "ipython",
    "version": 3
   },
   "file_extension": ".py",
   "mimetype": "text/x-python",
   "name": "python",
   "nbconvert_exporter": "python",
   "pygments_lexer": "ipython3",
   "version": "3.8.8"
  }
 },
 "nbformat": 4,
 "nbformat_minor": 1
}
