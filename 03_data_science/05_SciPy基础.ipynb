{
 "cells": [
  {
   "cell_type": "markdown",
   "id": "71058af2",
   "metadata": {},
   "source": [
    "# SciPy的应用\n",
    "\n",
    "## SciPy的简介\n",
    "\n"
   ]
  },
  {
   "cell_type": "markdown",
   "id": "b0dc3197",
   "metadata": {},
   "source": [
    "## 子模块\n",
    "\n",
    "|子模块|描述|\n",
    "|:----|:----|\n",
    "|cluster|聚类算法|\n",
    "|constants|物理数学常数|\n",
    "|fftpack|快速傅里叶变换|\n",
    "|integrate|积分和常微分方程求解|\n",
    "|interpolate|插值|\n",
    "|io|输入输出|\n",
    "|linalg|线性代数|\n",
    "|odr|正交距离回归|\n",
    "|optimize|优化和求根|\n",
    "|signal|信号处理|\n",
    "|sparse|稀疏矩阵|\n",
    "|spatial|空间数据结构和算法|\n",
    "|special|特殊方程|\n",
    "|stats|统计分布和函数|\n",
    "|weave|调用C/C++|\n",
    "\n",
    "使用scipy之前，基础模块需要导入："
   ]
  },
  {
   "cell_type": "raw",
   "id": "bd47f357",
   "metadata": {},
   "source": [
    "import numpy as np\n",
    "# 使用scipy的子模块时，需要导入：\n",
    "from scipy import optimize\n",
    "\n",
    "print(np.info(optimize))"
   ]
  },
  {
   "cell_type": "markdown",
   "id": "831f02a8",
   "metadata": {},
   "source": [
    "## 多项式：polynomial"
   ]
  },
  {
   "cell_type": "raw",
   "id": "e5f1f979",
   "metadata": {},
   "source": [
    "\n",
    "import matplotlib.pyplot as plt\n",
    "import numpy as np\n",
    "\n",
    "data = np.genfromtxt(\"C-067.txt\",\n",
    "                     delimiter=\"\\t\",  # TAB 分隔\n",
    "                     skip_header=2)\n",
    "\n",
    "print(data[:7])\n",
    "print(data[0])"
   ]
  },
  {
   "cell_type": "code",
   "execution_count": null,
   "id": "65fe07e8",
   "metadata": {},
   "outputs": [],
   "source": [
    "p = plt.plot(data[0], data[1], 'kx')\n",
    "t = plt.title(\"janaf data for mechane\")\n",
    "a = plt.axis([0, 6000, 30, 120])\n",
    "x = plt.xlabel(\"temperature (K)\")\n",
    "y = plt.ylabel(r\"$C_p$ ($\\frac{kJ}{kg K}$)\")\n",
    "# plt.show()\n",
    "plt.close()"
   ]
  },
  {
   "cell_type": "code",
   "execution_count": null,
   "id": "1f8483bb",
   "metadata": {},
   "outputs": [],
   "source": [
    "# 径向基函数\n",
    "x = np.linspace(-3, 3, 100)\n"
   ]
  },
  {
   "cell_type": "code",
   "execution_count": null,
   "id": "b68fd893",
   "metadata": {},
   "outputs": [],
   "source": [
    "# 高斯函数\n",
    "plt.plot(x, np.exp(-1 * x ** 2))\n",
    "t = plt.title(\"Gaussian\")\n",
    "plt.savefig('Gaussian.png')\n",
    "plt.show()\n"
   ]
  },
  {
   "cell_type": "code",
   "execution_count": null,
   "id": "a895e9be",
   "metadata": {},
   "outputs": [],
   "source": [
    "# 高维 RBF 插值\n",
    "# 三维数据点：\n",
    "x, y = np.mgrid[-np.pi / 2:np.pi / 2:5j, -np.pi / 2:np.pi / 2:5j]\n",
    "z = np.cos(np.sqrt(x ** 2 + y ** 2))\n",
    "fig = plt.figure(figsize=(12, 6))\n",
    "ax = fig.gca(projection=\"3d\")\n",
    "ax.scatter(x, y, z)\n",
    "fig.savefig(\"mplot3d.jpg\")\n",
    "plt.show()"
   ]
  },
  {
   "cell_type": "markdown",
   "id": "b4c430da",
   "metadata": {},
   "source": [
    "## 统计模块：stats\n",
    "\n",
    "Python 中常用的统计工具有 Numpy, Pandas, PyMC, StatsModels 等。\n",
    "Scipy 中的子库 scipy.stats 中包含很多统计上的方法。\n"
   ]
  },
  {
   "cell_type": "code",
   "execution_count": null,
   "id": "cd6b7844",
   "metadata": {},
   "outputs": [],
   "source": [
    "from numpy import *\n",
    "from matplotlib import pyplot"
   ]
  },
  {
   "cell_type": "code",
   "execution_count": null,
   "id": "c264ee0e",
   "metadata": {},
   "outputs": [],
   "source": [
    "# Numpy 自带简单的统计方法：\n",
    "heights = array([1.46, 1.79, 2.01, 1.75, 1.56, 1.69, 1.88, 1.76, 1.88, 1.78])\n",
    "print('mean,', heights.mean())\n",
    "print('min,', heights.min())\n",
    "print('max', heights.max())\n",
    "print('stand deviation,', heights.std())"
   ]
  },
  {
   "cell_type": "code",
   "execution_count": null,
   "id": "5cb53830",
   "metadata": {},
   "outputs": [],
   "source": [
    "\n",
    "# 导入 Scipy 的统计模块：\n",
    "import scipy.stats.stats as st\n",
    "\n",
    "print('median, ', st.nanmedian(heights))  # 忽略nan值之后的中位数\n",
    "print('mode, ', st.mode(heights))  # 众数及其出现次数\n",
    "print('skewness, ', st.skew(heights))  # 偏度\n",
    "print('kurtosis, ', st.kurtosis(heights))  # 峰度\n"
   ]
  },
  {
   "cell_type": "code",
   "execution_count": null,
   "id": "17b1971d",
   "metadata": {},
   "outputs": [],
   "source": [
    "# 概率分布\n",
    "# 常见的连续概率分布有：\n",
    "# 均匀分布\n",
    "# 正态分布\n",
    "# 学生t分布\n",
    "# F分布\n",
    "# Gamma分布\n",
    "# ...\n",
    "\n",
    "# 离散概率分布：\n",
    "# 伯努利分布\n",
    "# 几何分布\n",
    "# ...\n",
    "# 这些都可以在 scipy.stats 中找到。\n",
    "\n",
    "\n",
    "# 正态分布\n",
    "from scipy.stats import norm"
   ]
  },
  {
   "cell_type": "markdown",
   "id": "375c208f",
   "metadata": {},
   "source": [
    "\n",
    "它包含四类常用的函数：\n",
    "\n",
    "- norm.cdf 返回对应的累计分布函数值\n",
    "- norm.pdf 返回对应的概率密度函数值\n",
    "- norm.rvs 产生指定参数的随机变量\n",
    "- norm.fit 返回给定数据下，各参数的最大似然估计（MLE）值\n",
    "\n",
    " 从正态分布产生500个随机点：\n"
   ]
  },
  {
   "cell_type": "code",
   "execution_count": null,
   "id": "ec48a530",
   "metadata": {},
   "outputs": [],
   "source": [
    "\n",
    "\n",
    "x_norm = norm.rvs(size=500)\n",
    "type(x_norm)\n",
    "# pyplot.ion() #开启interactive mode\n",
    "# 直方图：\n",
    "h = pyplot.hist(x_norm)\n",
    "print('counts, ', h[0])\n",
    "print('bin centers', h[1])\n",
    "figure = pyplot.figure(1)  # 创建图表1\n",
    "pyplot.show()"
   ]
  },
  {
   "cell_type": "code",
   "execution_count": null,
   "id": "11df0276",
   "metadata": {},
   "outputs": [],
   "source": [
    "\n",
    "# 归一化直方图（用出现频率代替次数），将划分区间变为 20（默认 10）：\n",
    "h = pyplot.hist(x_norm, normed=True, bins=20)\n",
    "pyplot.show()\n",
    "# 在这组数据下，正态分布参数的最大似然估计值为：\n",
    "x_mean, x_std = norm.fit(x_norm)\n",
    "\n",
    "print('mean, ', x_mean)\n",
    "print('x_std, ', x_std)\n"
   ]
  },
  {
   "cell_type": "code",
   "execution_count": null,
   "id": "21d8146b",
   "metadata": {},
   "outputs": [],
   "source": [
    "\n",
    "# 将真实的概率密度函数与直方图进行比较：\n",
    "h = pyplot.hist(x_norm, normed=True, bins=20)\n",
    "\n",
    "x = linspace(-3, 3, 50)\n",
    "p = pyplot.plot(x, norm.pdf(x), 'r-')\n",
    "pyplot.show()"
   ]
  },
  {
   "cell_type": "code",
   "execution_count": null,
   "id": "baf3910c",
   "metadata": {},
   "outputs": [],
   "source": [
    "\n",
    "\n",
    "# 导入积分函数：\n",
    "from scipy.integrate import trapz\n",
    "\n",
    "x1 = linspace(-2, 2, 108)\n",
    "p = trapz(norm.pdf(x1), x1)\n",
    "print('{:.2%} of the values lie between -2 and 2'.format(p))\n",
    "\n",
    "pyplot.fill_between(x1, norm.pdf(x1), color='red')\n",
    "pyplot.plot(x, norm.pdf(x), 'k-')\n",
    "pyplot.show()\n"
   ]
  },
  {
   "cell_type": "code",
   "execution_count": null,
   "id": "1d142a9a",
   "metadata": {},
   "outputs": [],
   "source": [
    "\n",
    "# 可以通过 loc 和 scale 来调整这些参数，一种方法是调用相关函数时进行输入：\n",
    "x = linspace(-3, 3, 50)\n",
    "p = pyplot.plot(x, norm.pdf(x, loc=0, scale=1))\n",
    "p = pyplot.plot(x, norm.pdf(x, loc=0.5, scale=2))\n",
    "p = pyplot.plot(x, norm.pdf(x, loc=-0.5, scale=.5))\n",
    "pyplot.show()\n"
   ]
  },
  {
   "cell_type": "code",
   "execution_count": null,
   "id": "45af8865",
   "metadata": {},
   "outputs": [],
   "source": [
    "\n",
    "# 不同参数的对数正态分布：\n",
    "from scipy.stats import lognorm\n",
    "\n",
    "x = linspace(0.01, 3, 100)\n",
    "\n",
    "pyplot.plot(x, lognorm.pdf(x, 1), label='s=1')\n",
    "pyplot.plot(x, lognorm.pdf(x, 2), label='s=2')\n",
    "pyplot.plot(x, lognorm.pdf(x, .1), label='s=0.1')\n",
    "\n",
    "pyplot.legend()\n",
    "pyplot.show()\n"
   ]
  },
  {
   "cell_type": "code",
   "execution_count": null,
   "id": "a68d4095",
   "metadata": {},
   "outputs": [],
   "source": [
    "\n",
    "# 离散分布\n",
    "from scipy.stats import randint\n",
    "\n",
    "# 离散均匀分布的概率质量函数（PMF）：\n",
    "high = 10\n",
    "low = -10\n",
    "\n",
    "x = arange(low, high + 1, 0.5)\n",
    "p = pyplot.stem(x, randint(low, high).pmf(x))  # 杆状图\n",
    "pyplot.show()"
   ]
  },
  {
   "cell_type": "code",
   "execution_count": null,
   "id": "1e1a404c",
   "metadata": {},
   "outputs": [],
   "source": [
    "\n",
    "# 假设检验\n",
    "# 导入相关的函数：\n",
    "#\n",
    "# 1.正态分布\n",
    "# 2.独立双样本 t 检验，配对样本 t 检验，单样本 t 检验\n",
    "# 3.学生 t 分布\n",
    "\n",
    "from scipy.stats import norm\n",
    "from scipy.stats import ttest_ind\n",
    "\n",
    "# 独立样本 t 检验\n",
    "# 两组参数不同的正态分布：\n",
    "n1 = norm(loc=0.3, scale=1.0)\n",
    "n2 = norm(loc=0, scale=1.0)\n",
    "# 从分布中产生两组随机样本：\n",
    "n1_samples = n1.rvs(size=100)\n",
    "n2_samples = n2.rvs(size=100)\n",
    "# 将两组样本混合在一起：\n",
    "samples = hstack((n1_samples, n2_samples))\n",
    "# 最大似然参数估计：\n",
    "loc, scale = norm.fit(samples)\n",
    "n = norm(loc=loc, scale=scale)\n",
    "# 比较：\n",
    "x = linspace(-3, 3, 100)"
   ]
  },
  {
   "cell_type": "code",
   "execution_count": null,
   "id": "dbeda4be",
   "metadata": {},
   "outputs": [],
   "source": [
    "\n",
    "pyplot.hist([samples, n1_samples, n2_samples], normed=True)\n",
    "pyplot.plot(x, n.pdf(x), 'b-')\n",
    "pyplot.plot(x, n1.pdf(x), 'g-')\n",
    "pyplot.plot(x, n2.pdf(x), 'r-')\n",
    "pyplot.show()\n"
   ]
  },
  {
   "cell_type": "code",
   "execution_count": null,
   "id": "37db643d",
   "metadata": {},
   "outputs": [],
   "source": [
    "\n",
    "# 独立双样本 t 检验的目的在于判断两组样本之间是否有显著差异：\n",
    "t_val, p = ttest_ind(n1_samples, n2_samples)\n",
    "\n",
    "print('t = {}'.format(t_val))\n",
    "print('p-value = {}'.format(p))\n",
    "# t = 0.868384594123\n",
    "# p-value = 0.386235148899\n",
    "# p 值小，说明这两个样本有显著性差异。\n"
   ]
  },
  {
   "cell_type": "markdown",
   "id": "7d3daab9",
   "metadata": {},
   "source": [
    "## 曲线：curve"
   ]
  },
  {
   "cell_type": "code",
   "execution_count": null,
   "id": "cb462855",
   "metadata": {},
   "outputs": [],
   "source": [
    "\n",
    "\n",
    "import matplotlib.pyplot as plt\n",
    "# 曲线拟合\n",
    "# 导入基础包：\n",
    "import numpy as np\n",
    "# 多项式拟合\n",
    "from numpy import polyfit, poly1d\n",
    "\n",
    "# 产生数据：\n",
    "x = np.linspace(-5, 5, 100)\n",
    "y = 4 * x + 1.5\n",
    "noise_y = y + np.random.randn(y.shape[-1]) * 2.5\n",
    "\n",
    "p = plt.plot(x, noise_y, 'rx')\n",
    "p = plt.plot(x, y, 'b:')\n",
    "plt.show()\n"
   ]
  },
  {
   "cell_type": "code",
   "execution_count": null,
   "id": "d979e8fd",
   "metadata": {},
   "outputs": [],
   "source": [
    "# 进行线性拟合，polyfit 是多项式拟合函数，线性拟合即一阶多项式：\n",
    "coeff = polyfit(x, noise_y, 1)\n",
    "print(coeff)\n",
    "\n",
    "# 一阶多项式 y=a1x+a0y=a1x+a0 拟合，返回两个系数 [a1,a0][a1,a0]。\n",
    "\n",
    "# 画出拟合曲线：\n",
    "p = plt.plot(x, noise_y, 'rx')\n",
    "p = plt.plot(x, coeff[0] * x + coeff[1], 'k-')\n",
    "p = plt.plot(x, y, 'b--')\n",
    "plt.show()"
   ]
  },
  {
   "cell_type": "code",
   "execution_count": null,
   "id": "369b9d8a",
   "metadata": {},
   "outputs": [],
   "source": [
    "# 多项式拟合余弦函数\n",
    "# 余弦函数：\n",
    "x = np.linspace(-np.pi, np.pi, 100)\n",
    "y = np.cos(x)\n",
    "\n",
    "# 用一阶到九阶多项式拟合，类似泰勒展开：\n",
    "# 可以用 poly1d 生成一个以传入的 coeff 为参数的多项式函数：\n",
    "y1 = poly1d(polyfit(x, y, 1))\n",
    "y3 = poly1d(polyfit(x, y, 3))\n",
    "y5 = poly1d(polyfit(x, y, 5))\n",
    "y7 = poly1d(polyfit(x, y, 7))\n",
    "y9 = poly1d(polyfit(x, y, 9))\n",
    "x = np.linspace(-3 * np.pi, 3 * np.pi, 100)\n",
    "\n",
    "p = plt.plot(x, np.cos(x), 'k')  # 黑色余弦\n",
    "p = plt.plot(x, y1(x))\n",
    "p = plt.plot(x, y3(x))\n",
    "p = plt.plot(x, y5(x))\n",
    "p = plt.plot(x, y7(x))\n",
    "p = plt.plot(x, y9(x))\n",
    "\n",
    "a = plt.axis([-3 * np.pi, 3 * np.pi, -1.25, 1.25])\n",
    "plt.show()"
   ]
  },
  {
   "cell_type": "code",
   "execution_count": null,
   "id": "a6f06852",
   "metadata": {},
   "outputs": [],
   "source": [
    "\n",
    "# 黑色为原始的图形，可以看到，随着多项式拟合的阶数的增加，\n",
    "# 曲线与拟合数据的吻合程度在逐渐增大。\n",
    "\n",
    "\n",
    "# 最小二乘拟合\n",
    "# 导入相关的模块：\n",
    "from scipy.linalg import lstsq\n",
    "from scipy.stats import linregress\n",
    "\n",
    "x = np.linspace(0, 5, 100)\n",
    "y = 0.5 * x + np.random.randn(x.shape[-1]) * 0.35\n",
    "\n",
    "plt.plot(x, y, 'x')\n",
    "plt.show()"
   ]
  },
  {
   "cell_type": "code",
   "execution_count": null,
   "id": "c40c53c4",
   "metadata": {},
   "outputs": [],
   "source": [
    "\n",
    "# Scipy.linalg.lstsq 最小二乘解\n",
    "# 可以使用 scipy.linalg.lstsq 求最小二乘解。\n",
    "X = np.hstack((x[:, np.newaxis], np.ones((x.shape[-1], 1))))\n",
    "print(X[1:5])\n",
    "# 求解：\n",
    "C, resid, rank, s = lstsq(X, y)\n",
    "print(C, resid, rank, s)\n",
    "# 画图：\n",
    "p = plt.plot(x, y, 'rx')\n",
    "p = plt.plot(x, C[0] * x + C[1], 'k--')\n",
    "plt.show()\n"
   ]
  },
  {
   "cell_type": "code",
   "execution_count": null,
   "id": "2b22e098",
   "metadata": {},
   "outputs": [],
   "source": [
    "print(\"sum squared residual = {:.3f}\".format(resid))\n",
    "print(\"rank of the X matrix = {}\".format(rank))\n",
    "print(\"singular values of X = {}\".format(s))\n"
   ]
  },
  {
   "cell_type": "code",
   "execution_count": null,
   "id": "23ed29d0",
   "metadata": {},
   "outputs": [],
   "source": [
    "\n",
    "# Scipy.stats.linregress 线性回归\n",
    "# 对于上面的问题，还可以使用线性回归进行求解：\n",
    "slope, intercept, r_value, p_value, stderr = linregress(x, y)\n",
    "p = plt.plot(x, y, 'rx')\n",
    "p = plt.plot(x, slope * x + intercept, 'k--')\n",
    "plt.show()\n",
    "print(\"R-value = {:.3f}\".format(r_value))\n",
    "print(\"p-value (probability there is no correlation) = {:.3e}\".format(p_value))\n",
    "print(\"Root mean squared error of the fit = {:.3f}\".format(np.sqrt(stderr)))"
   ]
  },
  {
   "cell_type": "code",
   "execution_count": null,
   "id": "789589d8",
   "metadata": {},
   "outputs": [],
   "source": [
    "# 可以看到，两者求解的结果是一致的，但是出发的角度是不同的。\n",
    "\n",
    "# 高级的拟合\n",
    "# 先定义这个非线性函数：y=ae^(−bsin(fx+ϕ))\n",
    "def function(x, a, b, f, phi):\n",
    "    \"\"\"a function of x with four parameters\"\"\"\n",
    "    result = a * np.exp(-b * np.sin(f * x + phi))\n",
    "    return result\n",
    "\n",
    "\n",
    "# 画出原始曲线：\n",
    "x = np.linspace(0, 2 * np.pi, 50)\n",
    "actual_parameters = [3, 2, 1.25, np.pi / 4]\n",
    "y = function(x, *actual_parameters)\n",
    "p = plt.plot(x, y)\n",
    "plt.show()"
   ]
  },
  {
   "cell_type": "code",
   "execution_count": null,
   "id": "2f65cfec",
   "metadata": {},
   "outputs": [],
   "source": [
    "# 加入噪声：\n",
    "from scipy.stats import norm\n",
    "\n",
    "y_noisy = y + 0.8 * norm.rvs(size=len(x))\n",
    "p = plt.plot(x, y, 'k-')\n",
    "p = plt.plot(x, y_noisy, 'rx')\n",
    "plt.show()"
   ]
  },
  {
   "cell_type": "code",
   "execution_count": null,
   "id": "3bb7da5a",
   "metadata": {},
   "outputs": [],
   "source": [
    "# 高级的做法：\n",
    "from scipy.optimize import curve_fit\n",
    "\n",
    "# 不需要定义误差函数，直接传入 function 作为参数：\n",
    "p_est, err_est = curve_fit(function, x, y_noisy)\n",
    "print(p_est)\n",
    "p = plt.plot(x, y_noisy, \"rx\")\n",
    "p = plt.plot(x, function(x, *p_est), \"g--\")\n",
    "plt.show()"
   ]
  },
  {
   "cell_type": "code",
   "execution_count": null,
   "id": "270be27d",
   "metadata": {},
   "outputs": [],
   "source": [
    "# 这里第一个返回的是函数的参数，第二个返回值为各个参数的协方差矩阵：\n",
    "print(err_est)\n",
    "\n",
    "# 协方差矩阵的对角线为各个参数的方差：\n",
    "print(\"normalized relative errors for each parameter\")\n",
    "print(\"   a\\t    b\\t    f\\t    phi\")\n",
    "print(np.sqrt(err_est.diagonal()) / p_est)"
   ]
  },
  {
   "cell_type": "code",
   "execution_count": null,
   "id": "33b5bd47",
   "metadata": {},
   "outputs": [],
   "source": []
  },
  {
   "cell_type": "code",
   "execution_count": null,
   "id": "8e01be42",
   "metadata": {},
   "outputs": [],
   "source": []
  },
  {
   "cell_type": "code",
   "execution_count": null,
   "id": "cbf075bb",
   "metadata": {},
   "outputs": [],
   "source": []
  },
  {
   "cell_type": "code",
   "execution_count": null,
   "id": "eea43423",
   "metadata": {},
   "outputs": [],
   "source": []
  },
  {
   "cell_type": "code",
   "execution_count": null,
   "id": "aec6a65b",
   "metadata": {},
   "outputs": [],
   "source": []
  },
  {
   "cell_type": "code",
   "execution_count": null,
   "id": "23efa6c4",
   "metadata": {},
   "outputs": [],
   "source": []
  }
 ],
 "metadata": {
  "kernelspec": {
   "display_name": "Python 3",
   "language": "python",
   "name": "python3"
  },
  "language_info": {
   "codemirror_mode": {
    "name": "ipython",
    "version": 3
   },
   "file_extension": ".py",
   "mimetype": "text/x-python",
   "name": "python",
   "nbconvert_exporter": "python",
   "pygments_lexer": "ipython3",
   "version": "3.8.8"
  }
 },
 "nbformat": 4,
 "nbformat_minor": 5
}
